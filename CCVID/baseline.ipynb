{
 "cells": [
  {
   "cell_type": "markdown",
   "id": "d5ba6702",
   "metadata": {},
   "source": [
    "# Dataset"
   ]
  },
  {
   "cell_type": "code",
   "execution_count": null,
   "id": "de7164d8",
   "metadata": {},
   "outputs": [],
   "source": [
    "import random, os\n",
    "import re\n",
    "from collections import defaultdict\n",
    "\n",
    "def analyze_dataset_quality(dataset_dir):\n",
    "    pattern = re.compile(r'([-\\d]+)_c(\\d)')\n",
    "    id_counts = defaultdict(int)\n",
    "    cam_counts = defaultdict(int)\n",
    "    \n",
    "    images = [f for f in os.listdir(dataset_dir) if f.endswith(('.jpg', '.png'))]\n",
    "    \n",
    "    for img in images:\n",
    "        m = pattern.search(img)\n",
    "        if m:\n",
    "            person_id = int(m.group(1))\n",
    "            camera_id = int(m.group(2))\n",
    "            id_counts[person_id] += 1\n",
    "            cam_counts[camera_id] += 1\n",
    "    \n",
    "    print(f\"Total images: {len(images)}\")\n",
    "    print(f\"Unique IDs: {len(id_counts)}\")\n",
    "    print(f\"Unique cameras: {len(cam_counts)}\")\n",
    "    print(f\"Avg images per ID: {sum(id_counts.values()) / len(id_counts):.1f}\")\n",
    "    print(f\"Min images per ID: {min(id_counts.values())}\")\n",
    "    print(f\"Max images per ID: {max(id_counts.values())}\")\n",
    "    \n",
    "    # Az resmi olan ID'leri göster\n",
    "    low_count_ids = [id for id, count in id_counts.items() if count < 5]\n",
    "    print(f\"IDs with < 5 images: {len(low_count_ids)}\")\n",
    "\n",
    "# Veri setlerini analiz et\n",
    "print(\"=== TRAIN SET ===\")\n",
    "analyze_dataset_quality(\"/home/ika/Downloads/Market-1501-v15.09.15/bounding_box_train\")\n",
    "print(\"\\n=== QUERY SET ===\")\n",
    "analyze_dataset_quality(\"/home/ika/Downloads/Market-1501-v15.09.15/query\")\n",
    "print(\"\\n=== GALLERY SET ===\")\n",
    "analyze_dataset_quality(\"/home/ika/Downloads/Market-1501-v15.09.15/bounding_box_test\")"
   ]
  },
  {
   "cell_type": "code",
   "execution_count": null,
   "id": "565c7efb",
   "metadata": {},
   "outputs": [],
   "source": [
    "import os\n",
    "import shutil\n",
    "import random\n",
    "import re\n",
    "from collections import defaultdict\n",
    "\n",
    "def create_proper_reid_split(\n",
    "    train_src, query_src, gallery_src,\n",
    "    output_dir, train_ratio=0.7\n",
    "):\n",
    "    \"\"\"\n",
    "    TAO için doğru train/test ayrımını oluşturur.\n",
    "    Test seti, train setinde OLMAYAN ID'leri içerir.\n",
    "    \"\"\"\n",
    "    print(\"Creating proper Re-ID split...\")\n",
    "    \n",
    "    # Çıktı klasörlerini hazırla\n",
    "    train_dst = os.path.join(output_dir, 'bounding_box_train')\n",
    "    query_dst = os.path.join(output_dir, 'query')\n",
    "    gallery_dst = os.path.join(output_dir, 'bounding_box_test')\n",
    "    \n",
    "    for d in [train_dst, query_dst, gallery_dst]:\n",
    "        if os.path.exists(d):\n",
    "            shutil.rmtree(d)\n",
    "        os.makedirs(d)\n",
    "\n",
    "    # Tüm resimleri ve ID'leri topla\n",
    "    all_images = defaultdict(list)\n",
    "    pattern = re.compile(r'([-\\d]+)_c(\\d)')\n",
    "    \n",
    "    for src in [train_src, query_src, gallery_src]:\n",
    "        for img in os.listdir(src):\n",
    "            if img.endswith(('.jpg', '.png')):\n",
    "                m = pattern.search(img)\n",
    "                if m:\n",
    "                    person_id = int(m.group(1))\n",
    "                    all_images[person_id].append(os.path.join(src, img))\n",
    "\n",
    "    print(f\"Total unique IDs found: {len(all_images)}\")\n",
    "    \n",
    "    # ID'leri train ve test olarak ayır\n",
    "    all_ids = list(all_images.keys())\n",
    "    random.shuffle(all_ids)\n",
    "    \n",
    "    train_size = int(len(all_ids) * train_ratio)\n",
    "    train_ids = set(all_ids[:train_size])\n",
    "    test_ids = set(all_ids[train_size:])\n",
    "    \n",
    "    print(f\"Splitting into {len(train_ids)} train IDs and {len(test_ids)} test IDs.\")\n",
    "\n",
    "    # Train setini oluştur\n",
    "    for person_id in train_ids:\n",
    "        for img_path in all_images[person_id]:\n",
    "            shutil.copy(img_path, os.path.join(train_dst, os.path.basename(img_path)))\n",
    "            \n",
    "    # Query ve gallery setlerini oluştur\n",
    "    for person_id in test_ids:\n",
    "        images = all_images[person_id]\n",
    "        random.shuffle(images)\n",
    "        \n",
    "        # Her test ID'si için 1 query resmi, geri kalanı gallery\n",
    "        if len(images) > 1:\n",
    "            # Query\n",
    "            shutil.copy(images[0], os.path.join(query_dst, os.path.basename(images[0])))\n",
    "            # Gallery\n",
    "            for i in range(1, len(images)):\n",
    "                shutil.copy(images[i], os.path.join(gallery_dst, os.path.basename(images[i])))\n",
    "        elif len(images) == 1:\n",
    "            # Sadece 1 resmi varsa hem query hem gallery'e koy\n",
    "            shutil.copy(images[0], os.path.join(query_dst, os.path.basename(images[0])))\n",
    "            shutil.copy(images[0], os.path.join(gallery_dst, os.path.basename(images[0])))\n",
    "\n",
    "    print(\"\\nProper split created successfully!\")\n",
    "    print(f\"  Train: {len(os.listdir(train_dst))} images\")\n",
    "    print(f\"  Query: {len(os.listdir(query_dst))} images\")\n",
    "    print(f\"  Gallery: {len(os.listdir(gallery_dst))} images\")\n",
    "\n",
    "# Mevcut klasör yollarınızı buraya girin\n",
    "train_src = \"/home/ika/yzlm/TwinProject/CCVID/CCVID_market1501_format/bounding_box_train\"\n",
    "query_src = \"/home/ika/yzlm/TwinProject/CCVID/CCVID_market1501_format/query\"\n",
    "gallery_src = \"/home/ika/yzlm/TwinProject/CCVID/CCVID_market1501_format/bounding_box_test\"\n",
    "\n",
    "# Yeni ve doğru veri setinin oluşturulacağı klasör\n",
    "output_dir = \"/home/ika/yzlm/TwinProject/CCVID/CCVID_proper_split\"\n",
    "\n",
    "# Kodu çalıştır\n",
    "create_proper_reid_split(train_src, query_src, gallery_src, output_dir, train_ratio=0.7)"
   ]
  },
  {
   "cell_type": "markdown",
   "id": "193a5ef6",
   "metadata": {},
   "source": [
    "# Train "
   ]
  },
  {
   "cell_type": "code",
   "execution_count": null,
   "id": "b6d46b81",
   "metadata": {},
   "outputs": [],
   "source": [
    "!tao model re_identification train -e /home/ika/yzlm/TwinProject/CCVID/train_with_val.yaml"
   ]
  },
  {
   "cell_type": "markdown",
   "id": "e17ace39",
   "metadata": {},
   "source": [
    "# Evaluate\n"
   ]
  },
  {
   "cell_type": "code",
   "execution_count": null,
   "id": "e85abb3e",
   "metadata": {},
   "outputs": [],
   "source": [
    "!tao model re_identification export \\\n",
    "    -e /home/ika/yzlm/TwinProject/CCVID/export.yaml \\\n",
    "    dataset.num_classes=158"
   ]
  },
  {
   "cell_type": "code",
   "execution_count": null,
   "id": "1b6e1172",
   "metadata": {},
   "outputs": [],
   "source": [
    "# Evaluation komutu\n",
    "!tao model re_identification evaluate \\\n",
    "    -e /home/ika/yzlm/TwinProject/CCVID/train_with_val.yaml \\\n",
    "    evaluate.checkpoint=/home/ika/yzlm/TwinProject/CCVID/results/train/model_epoch_049_step_03838.pth \\\n",
    "    evaluate.query_dataset=/home/ika/yzlm/TwinProject/CCVID/CCVID_proper_split/query \\\n",
    "    evaluate.test_dataset=/home/ika/yzlm/TwinProject/CCVID/CCVID_proper_split/bounding_box_test \n"
   ]
  },
  {
   "cell_type": "code",
   "execution_count": null,
   "id": "1bcf75d7",
   "metadata": {},
   "outputs": [],
   "source": [
    "# Evaluation komutu\n",
    "!tao model re_identification evaluate \\\n",
    "    -e /home/ika/yzlm/TwinProject/CCVID/train_with_val.yaml \\\n",
    "    evaluate.checkpoint=/home/ika/yzlm/TwinProject/CCVID/results_imagenet/train/model_epoch_049_step_03838.pth \\\n",
    "    evaluate.query_dataset=/home/ika/yzlm/TwinProject/CCVID/CCVID_proper_split/query \\\n",
    "    evaluate.test_dataset=/home/ika/yzlm/TwinProject/CCVID/CCVID_proper_split/bounding_box_test \n"
   ]
  }
 ],
 "metadata": {
  "kernelspec": {
   "display_name": "base",
   "language": "python",
   "name": "python3"
  },
  "language_info": {
   "codemirror_mode": {
    "name": "ipython",
    "version": 3
   },
   "file_extension": ".py",
   "mimetype": "text/x-python",
   "name": "python",
   "nbconvert_exporter": "python",
   "pygments_lexer": "ipython3",
   "version": "3.13.5"
  }
 },
 "nbformat": 4,
 "nbformat_minor": 5
}
